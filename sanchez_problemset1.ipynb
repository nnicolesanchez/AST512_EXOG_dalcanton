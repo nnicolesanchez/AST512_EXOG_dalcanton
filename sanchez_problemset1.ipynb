{
 "cells": [
  {
   "cell_type": "code",
   "execution_count": 1,
   "metadata": {
    "collapsed": true
   },
   "outputs": [],
   "source": [
    "# ASTR 512: Problem Set #1"
   ]
  },
  {
   "cell_type": "code",
   "execution_count": 2,
   "metadata": {
    "collapsed": true
   },
   "outputs": [],
   "source": [
    "# Galaxy Classification"
   ]
  },
  {
   "cell_type": "markdown",
   "metadata": {},
   "source": [
    "<img src=\"./NGC_151_MCG_-2_2_54_IRAS_00315-0958_irg.jpg\" style=\"width:7cm;display:inline;margin:1px\"> \n",
    "<img src=\"./NGC_309_MCG_-2_3_50_IRAS_00542-1010_irg.jpg\" style=\"width:7cm;display:inline;margin:1px\">\n",
    "<img src=\"./NGC_741_UGC_1413_3ZW_38_irg.jpg\" style=\"width:7cm;display:inline;margin:1px\"> \n",
    "<img src=\"./NGC_1032_UGC_2147_irg.jpg\" style=\"width:7cm;display:inline;margin:1px\">\n"
   ]
  },
  {
   "cell_type": "code",
   "execution_count": null,
   "metadata": {
    "collapsed": false
   },
   "outputs": [],
   "source": []
  },
  {
   "cell_type": "code",
   "execution_count": null,
   "metadata": {
    "collapsed": true
   },
   "outputs": [],
   "source": []
  }
 ],
 "metadata": {
  "anaconda-cloud": {},
  "kernelspec": {
   "display_name": "Python [default]",
   "language": "python",
   "name": "python3"
  },
  "language_info": {
   "codemirror_mode": {
    "name": "ipython",
    "version": 3
   },
   "file_extension": ".py",
   "mimetype": "text/x-python",
   "name": "python",
   "nbconvert_exporter": "python",
   "pygments_lexer": "ipython3",
   "version": "3.5.2"
  }
 },
 "nbformat": 4,
 "nbformat_minor": 2
}
