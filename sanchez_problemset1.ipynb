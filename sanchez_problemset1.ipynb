{
 "cells": [
  {
   "cell_type": "code",
   "execution_count": 122,
   "metadata": {
    "collapsed": false
   },
   "outputs": [],
   "source": [
    "# ASTR 512: Problem Set #1\n",
    "# N. Nicole Sanchez\n",
    "# University of Washington, Seattle\n",
    "import matplotlib.pyplot as plt\n",
    "import pandas as pd\n",
    "import numpy as np\n",
    "\n",
    "plt.rc('font',size=14,family='serif',style='normal',\n",
    "       variant='normal',stretch='normal',weight='normal')"
   ]
  },
  {
   "cell_type": "code",
   "execution_count": 132,
   "metadata": {
    "collapsed": true
   },
   "outputs": [],
   "source": [
    "# Part c:\n",
    "# Classifying Galaxies"
   ]
  },
  {
   "cell_type": "markdown",
   "metadata": {},
   "source": [
    "<img src=\"./NGC_151_MCG_-2_2_54_IRAS_00315-0958_irg.jpg\" style=\"width:3cm;display:inline;margin:1px\"> \n",
    "<img src=\"./NGC_309_MCG_-2_3_50_IRAS_00542-1010_irg.jpg\" style=\"width:3cm;display:inline;margin:1px\">\n",
    "<img src=\"./NGC_741_UGC_1413_3ZW_38_irg.jpg\" style=\"width:3cm;display:inline;margin:1px\"> \n",
    "<img src=\"./NGC_1032_UGC_2147_irg.jpg\" style=\"width:3cm;display:inline;margin:1px\">\n",
    "<img src=\"./NGC_2681_UGC_4645_ARAK_185_irg.jpg\" style=\"width:3cm;display:inline;margin:1px\">\n",
    "<img src=\"./NGC_2775_UGC_4820_irg.jpg\" style=\"width:3cm;display:inline;margin:1px\">\n",
    "<img src=\"./NGC_2859_UGC_5001_irg.jpg\" style=\"width:3cm;display:inline;margin:1px\">\n",
    "<img src=\"./NGC_3023_UGC_5269_IRAS_09472+0051_irg.jpg\" style=\"width:3cm;display:inline;margin:1px\">\n",
    "<img src=\"./NGC_3338_UGC_5826_irg.jpg\" style=\"width:3cm;display:inline;margin:1px\">\n",
    "<img src=\"./NGC_7814_UGC_8_irg.jpg\" style=\"width:3cm;display:inline;margin:1px\">\n",
    "<img src=\"./NGC_3310_UGC_5786_ARP_217_irg.jpg\" style=\"width:3cm;display:inline;margin:1px\"> \n",
    "<img src=\"./NGC_3319_UGC_5789_KUG_1036+419_irg.jpg\" style=\"width:3cm;display:inline;margin:1px\">\n",
    "<img src=\"./NGC_3351_UGC_5850_IRAS_10413+1158_irg.jpg\" style=\"width:3cm;display:inline;margin:1px\"> \n",
    "<img src=\"./NGC_3379_UGC_5902_irg.jpg\" style=\"width:3cm;display:inline;margin:1px\">\n",
    "<img src=\"./NGC_3384_UGC_5911_irg.jpg\" style=\"width:3cm;display:inline;margin:1px\">\n",
    "<img src=\"./NGC_3396_UGC_5935_irg.jpg\" style=\"width:3cm;display:inline;margin:1px\">\n",
    "<img src=\"./NGC_3433_UGC_5981_irg.jpg\" style=\"width:3cm;display:inline;margin:1px\">\n",
    "<img src=\"./NGC_3489_UGC_6082_irg.jpg\" style=\"width:3cm;display:inline;margin:1px\">\n",
    "<img src=\"./NGC_3608_UGC_6299_irg.jpg\" style=\"width:3cm;display:inline;margin:1px\">\n",
    "<img src=\"./NGC_3627_UGC_6346_ARAK_288_irg.jpg\" style=\"width:3cm;display:inline;margin:1px\">\n",
    "<img src=\"./NGC_3631_UGC_6360_ARP_27_irg.jpg\" style=\"width:3cm;display:inline;margin:1px\"> \n",
    "<img src=\"./NGC_3666_UGC_6420_IRAS_11218+1137_irg.jpg\" style=\"width:3cm;display:inline;margin:1px\">\n",
    "<img src=\"./NGC_3675_UGC_6439_irg.jpg\" style=\"width:3cm;display:inline;margin:1px\"> \n",
    "<img src=\"./NGC_3692_UGC_6474_IRAS_11258+0940_irg.jpg\" style=\"width:3cm;display:inline;margin:1px\">\n",
    "<img src=\"./NGC_3801_UGC_6635_irg.jpg\" style=\"width:3cm;display:inline;margin:1px\">\n",
    "<img src=\"./NGC_3938_UGC_6856_IRAS_11502+4423_irg.jpg\" style=\"width:3cm;display:inline;margin:1px\">\n",
    "<img src=\"./NGC_3941_UGC_6857_irg.jpg\" style=\"width:3cm;display:inline;margin:1px\">\n",
    "<img src=\"./NGC_4026_UGC_6985_irg.jpg\" style=\"width:3cm;display:inline;margin:1px\">\n",
    "<img src=\"./NGC_4203_UGC_7256_IRAS_12125+3328_irg.jpg\" style=\"width:3cm;display:inline;margin:1px\">\n",
    "<img src=\"./NGC_4570_UGC_7785_VCC_1692_irg.jpg\" style=\"width:3cm;display:inline;margin:1px\">"
   ]
  },
  {
   "cell_type": "code",
   "execution_count": 128,
   "metadata": {
    "collapsed": false
   },
   "outputs": [
    {
     "name": "stdout",
     "output_type": "stream",
     "text": [
      "        Name Obs_Class  Obs_Ttype True_Class  True_Ttype\n",
      "0    NGC_151       SBa          1       SBbc           4\n",
      "1    NGC_309       SBc          3        SBc           5\n",
      "2    NGC_741        E1         -4         E0          -5\n",
      "3   NGC_1032        Sb          3        S0a           0\n",
      "4   NGC_2681       S0a          0       SB0a           0\n",
      "5   NGC_2775        E2         -4        Sab           2\n",
      "6   NGC_2859       S0a          0       SB0p          -1\n",
      "7   NGC_3023        Im         10        SBc           5\n",
      "8   NGC_3338        Sc          5         Sc           5\n",
      "9   NGC_7814        Sb          3        Sab           2\n",
      "10  NGC_3310        Sd          7       SBbc           4\n",
      "11  NGC_3319       SBm          9       SBcd           6\n",
      "12  NGC_3351       S0a          0        SBb           3\n",
      "13  NGC_3379        E0         -5         E1          -4\n",
      "14  NGC_3384        E4         -4       SB0m          -3\n",
      "15  NGC_3396        Im         11         Im          11\n",
      "16  NGC_3433        Sc          5         Sc           5\n",
      "17  NGC_3489        E5         -4       SB0p          -1\n",
      "18  NGC_3608        E2         -4         E2          -4\n",
      "19  NGC_3627       SBc          5        SBb           3\n",
      "20  NGC_3631        Sc          5         Sc           5\n",
      "21  NGC_3666        Sb          3         Sc           5\n",
      "22  NGC_3675       S0p         -1         Sb           3\n",
      "23  NGC_3692        Sa          1         Sb           3\n",
      "24  NGC_3801        E3         -4         S0          -2\n",
      "25  NGC_3938        Sb          3         Sc           5\n",
      "26  NGC_3941        E3         -4        SB0          -2\n",
      "27  NGC_4026        E7         -4         S0          -2\n",
      "28  NGC_4203        E0         -5       SB0m          -3\n",
      "29  UGC_4570        E7         -4         S0          -2\n"
     ]
    }
   ],
   "source": [
    "# Galaxy Classifications Dataframe\n",
    "Label = ['NGC_151','NGC_309','NGC_741','NGC_1032','NGC_2681','NGC_2775','NGC_2859',\n",
    "         'NGC_3023','NGC_3338','NGC_7814','NGC_3310','NGC_3319','NGC_3351','NGC_3379',\n",
    "         'NGC_3384','NGC_3396','NGC_3433','NGC_3489','NGC_3608','NGC_3627','NGC_3631',\n",
    "         'NGC_3666','NGC_3675','NGC_3692','NGC_3801','NGC_3938','NGC_3941','NGC_4026',\n",
    "         'NGC_4203','UGC_4570']\n",
    "Obs  = ['SBa', 'SBc', 'E1', 'Sb', 'S0a','E2', 'S0a', 'Im', 'Sc', 'Sb','Sd','SBm','S0a',\n",
    "        'E0','E4','Im','Sc','E5','E2','SBc','Sc','Sb','S0p','Sa','E3','Sb','E3','E7',\n",
    "        'E0','E7']\n",
    "Tobs = [1,3,-4,3,0,-4,0,10,5,3,7,9,0,-5,-4,11,5,-4,-4,5,5,3,-1,1,-4,3,-4,-4,-5,-4]\n",
    "\n",
    "Tru  = ['SBbc','SBc','E0','S0a','SB0a','Sab','SB0p','SBc','Sc','Sab','SBbc',\n",
    "        'SBcd','SBb','E1','SB0m','Im','Sc','SB0p','E2','SBb','Sc','Sc','Sb','Sb',\n",
    "        'S0','Sc','SB0','S0','SB0m','S0']\n",
    "\n",
    "Ttru = [4,5,-5,0,0,2,-1,5,5,2,4,6,3,-4,-3,11,5,-1,-4,3,5,5,3,3,-2,5,-2,-2,-3,-2]\n",
    "\n",
    "df = pd.DataFrame({'Name':Label,'Obs_Class':Obs,'Obs_Ttype':Tobs,\n",
    "                   'True_Class':Tru,'True_Ttype':Ttru})\n",
    "print(df)"
   ]
  },
  {
   "cell_type": "code",
   "execution_count": 129,
   "metadata": {
    "collapsed": false
   },
   "outputs": [
    {
     "data": {
      "image/png": "[encoded data removed]",
      "text/plain": [
       "<matplotlib.figure.Figure at 0x11088bcc0>"
      ]
     },
     "metadata": {},
     "output_type": "display_data"
    }
   ],
   "source": [
    "# Classification Histogram: Observed (by me) vs. Official/True T-type\n",
    "plt.hist(df.Obs_Ttype,color='IndianRed',histtype='step')\n",
    "plt.hist(df.Obs_Ttype,color='Salmon',alpha=0.5,label='Observed T-type')\n",
    "plt.hist(df.True_Ttype,color='DodgerBlue',histtype='step')\n",
    "plt.hist(df.True_Ttype,color='SteelBlue',alpha=0.5,label='Official T-type')\n",
    "\n",
    "plt.xlabel('Galaxy Classifications')\n",
    "plt.ylabel('dN/d(T-type)')\n",
    "plt.legend()\n",
    "plt.show()"
   ]
  },
  {
   "cell_type": "markdown",
   "metadata": {
    "collapsed": true
   },
   "source": [
    "Biases: My classifications tended to trend as Elliptical galaxies. When the official classification was often closer to an S0/a or S0$^{+/-}$, I would be more likely to classify it as an Elliptical galaxy. I also classified my spiral galaxies more broadly, more often classifying them as c/d than the official classifications."
   ]
  },
  {
   "cell_type": "markdown",
   "metadata": {},
   "source": [
    " "
   ]
  },
  {
   "cell_type": "code",
   "execution_count": 133,
   "metadata": {
    "collapsed": true
   },
   "outputs": [],
   "source": [
    "# Part d:\n",
    "# Extragalactic Scales"
   ]
  },
  {
   "cell_type": "code",
   "execution_count": 159,
   "metadata": {
    "collapsed": false
   },
   "outputs": [
    {
     "data": {
      "image/png": "[encoded data removed]",
      "text/plain": [
       "<matplotlib.figure.Figure at 0x111a14fd0>"
      ]
     },
     "metadata": {},
     "output_type": "display_data"
    }
   ],
   "source": [
    "from astropy.cosmology import WMAP9 as cosmo\n",
    "z = np.logspace(-3,1)\n",
    "#print(z)\n",
    "\n",
    "L_dist = cosmo.luminosity_distance(np.round(z,3))\n",
    "#print(L_dist)\n",
    "\n",
    "plt.plot(z,np.log10(L_dist.value))\n",
    "plt.ylabel(r'Luminosity Distance  [log(Mpc)]')\n",
    "plt.xlabel('Redshift z')\n",
    "plt.show()"
   ]
  },
  {
   "cell_type": "code",
   "execution_count": null,
   "metadata": {
    "collapsed": true
   },
   "outputs": [],
   "source": []
  }
 ],
 "metadata": {
  "anaconda-cloud": {},
  "kernelspec": {
   "display_name": "Python [default]",
   "language": "python",
   "name": "python3"
  },
  "language_info": {
   "codemirror_mode": {
    "name": "ipython",
    "version": 3
   },
   "file_extension": ".py",
   "mimetype": "text/x-python",
   "name": "python",
   "nbconvert_exporter": "python",
   "pygments_lexer": "ipython3",
   "version": "3.5.2"
  }
 },
 "nbformat": 4,
 "nbformat_minor": 2
}
